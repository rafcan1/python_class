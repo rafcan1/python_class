{
  "nbformat": 4,
  "nbformat_minor": 0,
  "metadata": {
    "colab": {
      "provenance": [],
      "authorship_tag": "ABX9TyNt8kK4iUcRT9vrb99s9O+l",
      "include_colab_link": true
    },
    "kernelspec": {
      "name": "python3",
      "display_name": "Python 3"
    },
    "language_info": {
      "name": "python"
    }
  },
  "cells": [
    {
      "cell_type": "markdown",
      "metadata": {
        "id": "view-in-github",
        "colab_type": "text"
      },
      "source": [
        "<a href=\"https://colab.research.google.com/github/rafcan1/python_class/blob/main/NLP_15_10.ipynb\" target=\"_parent\"><img src=\"https://colab.research.google.com/assets/colab-badge.svg\" alt=\"Open In Colab\"/></a>"
      ]
    },
    {
      "cell_type": "markdown",
      "source": [
        "1.Create a list by selecting items with odd indexes from the first list and\n",
        "items with even indexes from the second list\n",
        "Given two lists, l1 and l2, write a program that creates a third list, l3, by selecting\n",
        "an odd-indexed element from l1 and an even-indexed element from l2.Expected Output:\n",
        "l3 = [6, 15, 44, 3, 13, 21, 51]\n"
      ],
      "metadata": {
        "id": "AK6FhEuRiE7E"
      }
    },
    {
      "cell_type": "code",
      "source": [
        "l1 = [5, 6, 9, 15, 23, 44, 56]\n",
        "l2 = [3, 8, 13, 16, 21, 34, 51]\n",
        "odd_l1 = [x for i, x in enumerate(l1) if i % 2 != 0]\n",
        "even_l2 = [x for i, x in enumerate(l2) if i % 2 == 0]\n",
        "l3 = odd_l1 + even_l2\n",
        "print(l3)"
      ],
      "metadata": {
        "colab": {
          "base_uri": "https://localhost:8080/"
        },
        "id": "BtDmf-fCiBxF",
        "outputId": "a2ca98f1-1d8c-4303-c6fb-0088ccba912e"
      },
      "execution_count": 5,
      "outputs": [
        {
          "output_type": "stream",
          "name": "stdout",
          "text": [
            "[6, 15, 44, 3, 13, 21, 51]\n"
          ]
        }
      ]
    },
    {
      "cell_type": "markdown",
      "source": [
        "2.Slice the list into three equal parts and reverse each part\n",
        "Expected Output:\n",
        "Part 0 [5, 34, 8, 6]\n",
        "After reversing part 0 [6, 8, 34, 5]\n",
        "Part 1 [34, 22, 12, 32]\n",
        "After reversing part 1 [32, 12, 22, 34]\n",
        "Part 2 [67, 23, 43, 9]\n",
        "After reversing part 2 [9, 43, 23, 67]"
      ],
      "metadata": {
        "id": "MEV1mYwciiAN"
      }
    },
    {
      "cell_type": "code",
      "source": [
        "list = [5, 34, 8, 6, 34, 22, 12, 32, 67, 23, 43, 9]\n",
        "reversed_1 = list[:4][::-1]\n",
        "reversed_2 = list[4:8][::-1]\n",
        "reversed_3 = list[8:][::-1]\n",
        "print(reversed_1)\n",
        "print(reversed_2)\n",
        "print(reversed_3)"
      ],
      "metadata": {
        "colab": {
          "base_uri": "https://localhost:8080/"
        },
        "id": "6zArcU7YipsQ",
        "outputId": "79f9e9fc-96c6-47db-dced-6017c867e102"
      },
      "execution_count": 12,
      "outputs": [
        {
          "output_type": "stream",
          "name": "stdout",
          "text": [
            "[6, 8, 34, 5]\n",
            "[32, 12, 22, 34]\n",
            "[9, 43, 23, 67]\n"
          ]
        }
      ]
    },
    {
      "cell_type": "markdown",
      "source": [
        "3.Loop through the given list and verify if a specified element is present as a value in the dictionary's. If it isn't, remove the element from the list\n",
        "Expected Output:\n",
        "[44, 68, 55, 75]"
      ],
      "metadata": {
        "id": "qYpryP5zir8L"
      }
    },
    {
      "cell_type": "code",
      "source": [
        "numbers = [23, 44, 68, 33, 55, 14, 65, 75]\n",
        "sample_dict = {'Jacob': 44, 'Rachel': 68, 'Bob': 55, 'Anna': 75}\n",
        "filtered_numbers = [num for num in numbers if num in sample_dict.values()]\n",
        "print(filtered_numbers)"
      ],
      "metadata": {
        "colab": {
          "base_uri": "https://localhost:8080/"
        },
        "id": "EceUGW3ni3Lm",
        "outputId": "09c2bbd3-ad45-4cd6-88e6-b1c8abd627f8"
      },
      "execution_count": 15,
      "outputs": [
        {
          "output_type": "stream",
          "name": "stdout",
          "text": [
            "[44, 68, 55, 75]\n"
          ]
        }
      ]
    },
    {
      "cell_type": "markdown",
      "source": [
        "4.Create a string consisting of the first, middle and last character\n",
        "Expected Output:\n",
        "Jkb"
      ],
      "metadata": {
        "id": "qpsp2Bbfi_b1"
      }
    },
    {
      "cell_type": "code",
      "source": [
        "sample_string = \"Jackob\"\n",
        "first_char = sample_string[0]\n",
        "middle_char = sample_string[len(sample_string) // 2]\n",
        "last_char = sample_string[-1]\n",
        "result = first_char + middle_char + last_char\n",
        "print(result)"
      ],
      "metadata": {
        "colab": {
          "base_uri": "https://localhost:8080/"
        },
        "id": "ROuYRN5pjE5S",
        "outputId": "782ee30a-2198-4f11-98f3-40bdb1df37ce"
      },
      "execution_count": 16,
      "outputs": [
        {
          "output_type": "stream",
          "name": "stdout",
          "text": [
            "Jkb\n"
          ]
        }
      ]
    },
    {
      "cell_type": "markdown",
      "source": [
        "5.In the given string, count all the letters, numbers and special symbols\n",
        "Expected Output:\n",
        "Chars = 8\n",
        "Digits = 3\n",
        "Symbols = 4"
      ],
      "metadata": {
        "id": "OwpOp8HJjG0B"
      }
    },
    {
      "cell_type": "code",
      "source": [],
      "metadata": {
        "id": "_adJ1izRmkif"
      },
      "execution_count": null,
      "outputs": []
    },
    {
      "cell_type": "code",
      "source": [
        "sample_string = \"A@$gw47in^&j3te\"\n",
        "chars = 0\n",
        "digits = 0\n",
        "symbols = 0\n",
        "for char in sample_string:\n",
        "    if char.isalpha():\n",
        "        chars += 1\n",
        "    elif char.isdigit():\n",
        "        digits += 1\n",
        "    else:\n",
        "        symbols += 1\n",
        "\n",
        "print(\"Chars =\", chars)\n",
        "print(\"Digits =\", digits)\n",
        "print(\"Symbols =\", symbols)"
      ],
      "metadata": {
        "colab": {
          "base_uri": "https://localhost:8080/"
        },
        "id": "VR5C3_J7jLaA",
        "outputId": "dc18d4fe-ba71-48bd-b0fa-59731b039041"
      },
      "execution_count": 21,
      "outputs": [
        {
          "output_type": "stream",
          "name": "stdout",
          "text": [
            "Chars = 8\n",
            "Digits = 3\n",
            "Symbols = 4\n"
          ]
        }
      ]
    },
    {
      "cell_type": "markdown",
      "source": [
        "6.Count all occurrences of a substring in a given string, ignoring case, and find the last position of the given substring\n",
        "Write a script that finds all occurrences of the word \"POZNAN\" in a given string, ignoring case.\n",
        "Expected Output:\n",
        "The POZNAN count is: 2, Last occurrence of POZNAN starts at index: 7"
      ],
      "metadata": {
        "id": "SiMqbOSJjN88"
      }
    },
    {
      "cell_type": "code",
      "source": [
        "sample_string = \"Welcome to Poznan. Did you know that the Warta River flows through poznan? \"\n",
        "\n",
        "substring = \"Poznan\"\n",
        "count = sample_string.lower().count(substring.lower())\n",
        "last_position = sample_string.lower().rfind(substring.lower())\n",
        "\n",
        "print(f\"The {substring.upper()} count is: {count}, Last occurrence of {substring.upper()} starts at index: {last_position}\")"
      ],
      "metadata": {
        "colab": {
          "base_uri": "https://localhost:8080/"
        },
        "id": "OJ28n4vfjaVh",
        "outputId": "c03773f6-469b-4233-ca6a-f40bcd58f409"
      },
      "execution_count": 31,
      "outputs": [
        {
          "output_type": "stream",
          "name": "stdout",
          "text": [
            "The POZNAN count is: 2, Last occurrence of POZNAN starts at index: 67\n"
          ]
        }
      ]
    }
  ]
}