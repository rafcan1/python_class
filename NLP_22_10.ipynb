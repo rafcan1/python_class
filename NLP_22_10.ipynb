{
  "nbformat": 4,
  "nbformat_minor": 0,
  "metadata": {
    "colab": {
      "provenance": [],
      "authorship_tag": "ABX9TyPjfdNSnxyRhDWbcjZERZUu",
      "include_colab_link": true
    },
    "kernelspec": {
      "name": "python3",
      "display_name": "Python 3"
    },
    "language_info": {
      "name": "python"
    }
  },
  "cells": [
    {
      "cell_type": "markdown",
      "metadata": {
        "id": "view-in-github",
        "colab_type": "text"
      },
      "source": [
        "<a href=\"https://colab.research.google.com/github/rafcan1/python_class/blob/main/NLP_22_10.ipynb\" target=\"_parent\"><img src=\"https://colab.research.google.com/assets/colab-badge.svg\" alt=\"Open In Colab\"/></a>"
      ]
    },
    {
      "cell_type": "markdown",
      "source": [
        "1.Remove and add item in a list (1 point)\n",
        "Write a program that removes the element located at index 2 and adds it to the\n",
        "4th position and at the end of the list. Remember how list numbering looks like in\n",
        "python, what number it starts with.\n",
        "Expected Output:\n",
        "List After removing element at index 2 [57, 34, 79, 93, 21]\n",
        "List after Adding element at index 4 [57, 34, 79, 93, 24, 21]\n",
        "List after Adding element at last [57, 34, 79, 93, 24, 21, 24]\n"
      ],
      "metadata": {
        "id": "nUAHh3WLkml5"
      }
    },
    {
      "cell_type": "code",
      "execution_count": 27,
      "metadata": {
        "colab": {
          "base_uri": "https://localhost:8080/"
        },
        "id": "P4M7JIcYjwAT",
        "outputId": "d65b50e8-4f67-475a-c99d-4ed5661926c0"
      },
      "outputs": [
        {
          "output_type": "stream",
          "name": "stdout",
          "text": [
            "[57, 34, 79, 93, 24, 21, 24]\n"
          ]
        }
      ],
      "source": [
        "list1 = [57, 34, 24, 79, 93, 21]\n",
        "index_2 = list1[2]\n",
        "list1.pop(2)\n",
        "list1.insert(4, index_2)\n",
        "list1.append(index_2)\n",
        "print(list1)"
      ]
    },
    {
      "cell_type": "markdown",
      "source": [
        "2.Counting the occurrences of each element in the list (1 point)\n",
        "Write a program that counts the occurrences of each element in a given list and\n",
        "creates a dictionary showing the number of occurrences of each element.\n",
        "Expected Output:\n",
        "Count of each item {22: 2, 34: 2, 7: 3, 6: 1, 12: 1, 32: 1, 45: 1, 43: 1}\n"
      ],
      "metadata": {
        "id": "dL4A5Ak7k8JY"
      }
    },
    {
      "cell_type": "code",
      "source": [
        "list = [22, 34, 7, 6, 34, 22, 12, 32, 7, 45, 43, 7]\n",
        "dict = {}\n",
        "for i in list:\n",
        "    if i in dict:\n",
        "        dict[i] += 1\n",
        "    else:\n",
        "        dict[i] = 1\n",
        "print(dict)\n",
        "\n"
      ],
      "metadata": {
        "colab": {
          "base_uri": "https://localhost:8080/"
        },
        "id": "zX_U9vtDk8Xt",
        "outputId": "282c8e4f-bc59-4760-f15c-3ca0b9cbf0a9"
      },
      "execution_count": 11,
      "outputs": [
        {
          "output_type": "stream",
          "name": "stdout",
          "text": [
            "{22: 2, 34: 2, 7: 3, 6: 1, 12: 1, 32: 1, 45: 1, 43: 1}\n"
          ]
        }
      ]
    },
    {
      "cell_type": "markdown",
      "source": [
        "3.Create a Python set so that it displays an item from both lists in a pair of (1\n",
        "point)\n",
        "Expected Output (order not important):\n",
        "{(5, 21), (1, 2), (8, 107), (6, 43), (4, 12), (7, 64), (3, 9)}\n"
      ],
      "metadata": {
        "id": "8LDrQXgEk8e6"
      }
    },
    {
      "cell_type": "code",
      "source": [
        "list1 = [1, 3, 4, 5, 6, 7, 8]\n",
        "list2 = [2, 9, 12, 21, 43, 64, 107]\n",
        "for i in range(len(list1)):\n",
        "    list1[i] = (list1[i], list2[i])\n",
        "\n",
        "print(list1)"
      ],
      "metadata": {
        "colab": {
          "base_uri": "https://localhost:8080/"
        },
        "id": "ZURwpBmtk8kq",
        "outputId": "8d6d5cf8-fc4a-4438-e79c-a1289b6925ef"
      },
      "execution_count": 16,
      "outputs": [
        {
          "output_type": "stream",
          "name": "stdout",
          "text": [
            "[(1, 2), (3, 9), (4, 12), (5, 21), (6, 43), (7, 64), (8, 107)]\n"
          ]
        }
      ]
    },
    {
      "cell_type": "markdown",
      "source": [
        "4.Create a new string consisting of the first, middle and last character of each\n",
        "input string (1 point)\n",
        "Expected Output:\n",
        "IGaeye"
      ],
      "metadata": {
        "id": "nuIv-Nfkk8q5"
      }
    },
    {
      "cell_type": "code",
      "source": [
        "s1 = \"Italy\"\n",
        "s2 = \"Greece\"\n",
        "s1[0] + s2[0] + s1[len(s1)//2] + s2[len(s2)//2] + s1[-1] + s2[-1]\n"
      ],
      "metadata": {
        "colab": {
          "base_uri": "https://localhost:8080/",
          "height": 35
        },
        "id": "dEvxO2fJk8wS",
        "outputId": "44fc842a-b51b-4d6f-dd28-744329d3afda"
      },
      "execution_count": 17,
      "outputs": [
        {
          "output_type": "execute_result",
          "data": {
            "text/plain": [
              "'IGaeye'"
            ],
            "application/vnd.google.colaboratory.intrinsic+json": {
              "type": "string"
            }
          },
          "metadata": {},
          "execution_count": 17
        }
      ]
    },
    {
      "cell_type": "markdown",
      "source": [
        "5.Calculate the sum and average of the digits present in a string (1 point)\n",
        "Expected Output:\n",
        "Sum is: 29 Average is 4.833333333333333"
      ],
      "metadata": {
        "id": "DgLscPIXk825"
      }
    },
    {
      "cell_type": "code",
      "source": [
        "sample_string = \"Y0ever19$@#379\"\n",
        "sum = 0\n",
        "count = 0\n",
        "for i in sample_string:\n",
        "    if i.isdigit():\n",
        "        sum += int(i)\n",
        "        count += 1\n",
        "print(\"Sum is:\", sum, \"Average is\", sum/count)"
      ],
      "metadata": {
        "colab": {
          "base_uri": "https://localhost:8080/"
        },
        "id": "nhXFs5B_soQU",
        "outputId": "8d5e98fe-eb09-42e6-9014-d0474f918b0b"
      },
      "execution_count": 18,
      "outputs": [
        {
          "output_type": "stream",
          "name": "stdout",
          "text": [
            "Sum is: 29 Average is 4.833333333333333\n"
          ]
        }
      ]
    },
    {
      "cell_type": "markdown",
      "source": [
        "6.Split the string into words using a hyphen as a seperator (1 point)\n",
        "Expected Output:\n",
        "Bob\n",
        "is\n",
        "a\n",
        "programmer\n",
        "and\n",
        "knows\n",
        "python\n",
        "very\n",
        "well"
      ],
      "metadata": {
        "id": "YBLoObGFsoi5"
      }
    },
    {
      "cell_type": "code",
      "source": [
        "sample_string = \"Bob-is-a-programmer-and-knows-python-very-well\"\n",
        "new_str = sample_string.split(\"-\")\n",
        "for i in new_str:\n",
        "    print(i)"
      ],
      "metadata": {
        "colab": {
          "base_uri": "https://localhost:8080/"
        },
        "id": "3prK5_H6sopq",
        "outputId": "ce49fa5a-6e9d-4e28-ac40-303c7db8ccf9"
      },
      "execution_count": 26,
      "outputs": [
        {
          "output_type": "stream",
          "name": "stdout",
          "text": [
            "Bob\n",
            "is\n",
            "a\n",
            "programmer\n",
            "and\n",
            "knows\n",
            "python\n",
            "very\n",
            "well\n"
          ]
        }
      ]
    }
  ]
}